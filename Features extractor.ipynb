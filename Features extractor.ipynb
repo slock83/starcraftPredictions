{
 "cells": [
  {
   "cell_type": "code",
   "execution_count": 3,
   "metadata": {
    "collapsed": false
   },
   "outputs": [],
   "source": [
    "import csv\n",
    "from collections import OrderedDict\n",
    "import tqdm"
   ]
  },
  {
   "cell_type": "code",
   "execution_count": 4,
   "metadata": {
    "collapsed": false
   },
   "outputs": [],
   "source": [
    "\n",
    "#\"\"\"\n",
    "with open(\"train.csv\") as training_csv:\n",
    "    train_list_tmp = csv.reader(training_csv)\n",
    "    train_list = []\n",
    "    for row in train_list_tmp:\n",
    "        train_list.append(row)\n",
    "    train_list = train_list[1:]#\"\"\"\n",
    "with open(\"test.csv\") as test_csv:\n",
    "    test_list_tmp = csv.reader(test_csv)\n",
    "    test_list = []\n",
    "    for row in test_list_tmp:\n",
    "        test_list.append(row)\n",
    "    test_list = test_list[1:]"
   ]
  },
  {
   "cell_type": "code",
   "execution_count": 49,
   "metadata": {
    "collapsed": false,
    "scrolled": true
   },
   "outputs": [
    {
     "name": "stderr",
     "output_type": "stream",
     "text": [
      "100%|██████████| 4099/4099 [02:07<00:00, 32.07it/s]\n"
     ]
    }
   ],
   "source": [
    "all_features = []\n",
    "for row in tqdm.tqdm(train_list):\n",
    "    features = OrderedDict()\n",
    "    features['battleneturl'] = row[0].split(';')[0]\n",
    "    features['race'] =  row[0].split(';')[1]\n",
    "    features['s'] = 0\n",
    "    features['sBase'] = 0\n",
    "    features['sMineral'] = 0\n",
    "    for i in range(0,10):\n",
    "        for j in range (0,10):\n",
    "            features['hotkey%s%s'%(i,j)]= 0\n",
    "    features['apm'] = 0\n",
    "    lastFrame = 1\n",
    "    for val in row[1:]:\n",
    "        if val == \"sBase\":\n",
    "            features['sBase'] = features.get(\"sBase\",0) + 1\n",
    "        elif val == \"s\":\n",
    "            features['s'] = features.get(\"s\",0) + 1\n",
    "        elif val == \"sMineral\":\n",
    "            features['sMineral'] = features.get(\"sMineral\",0) + 1\n",
    "        elif 'hotkey' in val:\n",
    "            features[val] = features.get(val,0) + 1\n",
    "        else:\n",
    "            features['apm'] = features.get(\"apm\",0) + 1\n",
    "            lastFrame = int(val)\n",
    "    features['apm'] = features['apm'] / (lastFrame/60)\n",
    "    #print(features)\n",
    "    all_features.append(features)"
   ]
  },
  {
   "cell_type": "code",
   "execution_count": 5,
   "metadata": {
    "collapsed": false,
    "scrolled": true
   },
   "outputs": [
    {
     "name": "stderr",
     "output_type": "stream",
     "text": [
      "100%|██████████| 1024/1024 [00:30<00:00, 49.36it/s]\n"
     ]
    }
   ],
   "source": [
    "test_features = []\n",
    "for row in tqdm.tqdm(test_list):\n",
    "    features = OrderedDict()\n",
    "    features['row ID'] = row[0].split(';')[0]\n",
    "    features['race'] =  row[0].split(';')[1]\n",
    "    features['s'] = 0\n",
    "    features['sBase'] = 0\n",
    "    features['sMineral'] = 0\n",
    "    for i in range(0,10):\n",
    "        for j in range (0,10):\n",
    "            features['hotkey%s%s'%(i,j)]= 0\n",
    "    features['apm'] = 0\n",
    "    lastFrame = 1\n",
    "    for val in row[1:]:\n",
    "        if val == \"sBase\":\n",
    "            features['sBase'] = features.get(\"sBase\",0) + 1\n",
    "        elif val == \"s\":\n",
    "            features['s'] = features.get(\"s\",0) + 1\n",
    "        elif val == \"sMineral\":\n",
    "            features['sMineral'] = features.get(\"sMineral\",0) + 1\n",
    "        elif 'hotkey' in val:\n",
    "            features[val] = features.get(val,0) + 1\n",
    "        else:\n",
    "            features['apm'] = features.get(\"apm\",0) + 1\n",
    "            lastFrame = int(val)\n",
    "    features['apm'] = features['apm'] / (lastFrame/60)\n",
    "    #print(features)\n",
    "    test_features.append(features)"
   ]
  },
  {
   "cell_type": "code",
   "execution_count": 50,
   "metadata": {
    "collapsed": false
   },
   "outputs": [],
   "source": [
    "with open('features.csv', 'w') as outfile:\n",
    "    fp = csv.DictWriter(outfile, all_features[0].keys())\n",
    "    fp.writeheader()\n",
    "    fp.writerows(all_features)"
   ]
  },
  {
   "cell_type": "code",
   "execution_count": 6,
   "metadata": {
    "collapsed": true
   },
   "outputs": [],
   "source": [
    "with open('test_features.csv', 'w') as outfile:\n",
    "    fp = csv.DictWriter(outfile, test_features[0].keys())\n",
    "    fp.writeheader()\n",
    "    fp.writerows(test_features)"
   ]
  },
  {
   "cell_type": "code",
   "execution_count": null,
   "metadata": {
    "collapsed": true
   },
   "outputs": [],
   "source": []
  }
 ],
 "metadata": {
  "anaconda-cloud": {},
  "kernelspec": {
   "display_name": "Python [conda root]",
   "language": "python",
   "name": "conda-root-py"
  },
  "language_info": {
   "codemirror_mode": {
    "name": "ipython",
    "version": 3
   },
   "file_extension": ".py",
   "mimetype": "text/x-python",
   "name": "python",
   "nbconvert_exporter": "python",
   "pygments_lexer": "ipython3",
   "version": "3.5.2"
  }
 },
 "nbformat": 4,
 "nbformat_minor": 1
}
