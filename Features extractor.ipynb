{
 "cells": [
  {
   "cell_type": "code",
   "execution_count": 1,
   "metadata": {
    "ExecuteTime": {
     "end_time": "2017-01-17T16:41:14.318972",
     "start_time": "2017-01-17T16:41:14.046932"
    },
    "collapsed": false
   },
   "outputs": [],
   "source": [
    "import csv\n",
    "from collections import OrderedDict\n",
    "import tqdm"
   ]
  },
  {
   "cell_type": "code",
   "execution_count": 2,
   "metadata": {
    "ExecuteTime": {
     "end_time": "2017-01-17T16:41:14.323442",
     "start_time": "2017-01-17T16:41:14.320443"
    },
    "collapsed": true
   },
   "outputs": [],
   "source": [
    "from __future__ import division #use this if on python 2.7. It will work without, but it's actually pretty important, so... "
   ]
  },
  {
   "cell_type": "code",
   "execution_count": 5,
   "metadata": {
    "ExecuteTime": {
     "end_time": "2017-01-17T16:45:47.519588",
     "start_time": "2017-01-17T16:45:45.529547"
    },
    "collapsed": false
   },
   "outputs": [],
   "source": [
    "\n",
    "#\"\"\"\n",
    "with open(\"train.csv\") as training_csv:\n",
    "    train_list_tmp = csv.reader(training_csv)\n",
    "    train_list = []\n",
    "    for row in train_list_tmp:\n",
    "        train_list.append(row)\n",
    "    train_list = train_list[1:]#\"\"\"\n",
    "with open(\"test.csv\") as test_csv:\n",
    "    test_list_tmp = csv.reader(test_csv)\n",
    "    test_list = []\n",
    "    for row in test_list_tmp:\n",
    "        test_list.append(row)\n",
    "    test_list = test_list[1:]"
   ]
  },
  {
   "cell_type": "code",
   "execution_count": 41,
   "metadata": {
    "ExecuteTime": {
     "end_time": "2017-01-17T22:01:40.451198",
     "start_time": "2017-01-17T22:01:40.212086"
    },
    "collapsed": false
   },
   "outputs": [],
   "source": [
    "def generateData(list_id, first_column_identifier):\n",
    "    data = []\n",
    "    for row in tqdm.tqdm(list_id):\n",
    "        selectSequence = []\n",
    "        isInSelectSequence = False\n",
    "        currentSelectSequence = 0\n",
    "        hotkeySequence = []\n",
    "        isInHotkeySequence = False\n",
    "        currentHotkeySequence = 0\n",
    "        features = OrderedDict()\n",
    "        features[first_column_identifier] = row[0].split(';')[0]\n",
    "        features['race'] =  row[0].split(';')[1]\n",
    "        features['numRace'] = -1\n",
    "        features['Terran'] = 0.0\n",
    "        features['Protoss'] = 0.0\n",
    "        features['Zerg'] = 0.0\n",
    "        if \"Terran\" in features['race']:\n",
    "            features['numRace'] = 1.0\n",
    "            features['Terran'] = 1.0\n",
    "        if \"Protoss\" in features['race']:\n",
    "            features['numRace'] = 2.0\n",
    "            features['Protoss'] = 1.0\n",
    "        if \"Zerg\" in features['race']:\n",
    "            features['numRace'] = 3.0\n",
    "            features['Zerg'] = 1.0\n",
    "        features['s'] = 0\n",
    "        features['sBase'] = 0\n",
    "        features['sMineral'] = 0\n",
    "        features['firstHk'] = ''\n",
    "        features['firstHkNum'] = -1.0\n",
    "        features['openingS'] = 0.0\n",
    "        features['openingSBase'] = 0.0\n",
    "        features['openingHotkeyBind'] = 0.0\n",
    "        firstHkFound = False\n",
    "        features['gameString'] = ''\n",
    "        features['shortGameString'] = ''\n",
    "        for i in range(0,10):\n",
    "            for j in range (0,3):\n",
    "                features['hotkey%s%s'%(i,j)]= 0\n",
    "        features['apm'] = 1\n",
    "        lastFrame = 1\n",
    "        try:\n",
    "            op = row[1]\n",
    "            features['openingMove'] = row[1]\n",
    "            if \"sBase\" in op:\n",
    "                features['openingSBase'] = 1.0\n",
    "            elif \"s\" in op:\n",
    "                features['openingS'] = 1.0\n",
    "            elif \"hotkey\" in op:\n",
    "                features['openingHotkeyBind'] = 1.0\n",
    "        except:\n",
    "            #error in data\n",
    "            pass\n",
    "        for val in row[1:]:\n",
    "            if val == \"sBase\":\n",
    "                features['sBase'] = features.get(\"sBase\",0) + 1\n",
    "                features['gameString'] = features['gameString'] + \"base\"\n",
    "                features['shortGameString'] = features['shortGameString'] + \"b\"\n",
    "            elif val == \"s\":\n",
    "                features['s'] = features.get(\"s\",0) + 1\n",
    "                features['gameString'] = features['gameString'] + \"slct\"\n",
    "                features['shortGameString'] = features['shortGameString'] + \"s\"\n",
    "            elif val == \"sMineral\":\n",
    "                features['sMineral'] = features.get(\"sMineral\",0) + 1\n",
    "                features['gameString'] = features['gameString'] + \"mine\"\n",
    "                features['shortGameString'] = features['shortGameString'] + \"m\"\n",
    "            elif 'hotkey' in val:\n",
    "                features[val] = features.get(val,0) + 1\n",
    "                features['gameString'] = features['gameString'] + \"hk\"+val[6:]\n",
    "                features['shortGameString'] = features['shortGameString'] + \"h\"\n",
    "                if not firstHkFound:\n",
    "                    features['firstHk'] = val\n",
    "                    features['firstHkNum'] = int(val[6])\n",
    "                    firstHkFound = True\n",
    "            else:\n",
    "                features['apm'] = features.get(\"apm\",0) + 1\n",
    "                lastFrame = int(val)\n",
    "            if 's' in val:\n",
    "                if isInSelectSequence:\n",
    "                    currentSelectSequence += 1\n",
    "                else:\n",
    "                    if currentSelectSequence > 0:\n",
    "                        selectSequence.append(currentSelectSequence)\n",
    "                    currentSelectSequence = 1\n",
    "                    isInSelectSequence = True\n",
    "                    isInHotkeySequence = False\n",
    "            if 'hotkey' in val:\n",
    "                if isInHotkeySequence:\n",
    "                    currentHotkeySequence += 1\n",
    "                else:\n",
    "                    if currentSelectSequence > 0:\n",
    "                        hotkeySequence.append(currentHotkeySequence)\n",
    "                    currentHotkeySequence = 1\n",
    "                    isInSelectSequence = False\n",
    "                    isInHotkeySequence = True\n",
    "\n",
    "        features['selectPercent'] = features['s'] / features['apm'] * 100\n",
    "        features['sBasePercent'] = features['sBase'] / features['apm'] * 100\n",
    "        if isInSelectSequence:\n",
    "            selectSequence.append(currentSelectSequence)\n",
    "        if isInHotkeySequence:\n",
    "            hotkeySequence.append(currentHotkeySequence)\n",
    "        total=0\n",
    "        maxi = 0\n",
    "        for seq in selectSequence:\n",
    "            total+=seq\n",
    "            if maxi < seq:\n",
    "                maxi = seq\n",
    "        if len(selectSequence):\n",
    "            features['averageSelectSequence'] = total / (1.0*len(selectSequence))\n",
    "        else:\n",
    "            features['averageSelectSequence'] = 0\n",
    "        features['maxSelectSequence'] = maxi * 1.0\n",
    "        total=0\n",
    "        maxi = 0\n",
    "        for seq in hotkeySequence:\n",
    "            total+=seq\n",
    "            if maxi < seq:\n",
    "                maxi = seq\n",
    "        if len(hotkeySequence):                           \n",
    "            features['averageHotkeySequence'] = total / (1.0*len(hotkeySequence))\n",
    "        else:\n",
    "            features['averageHotkeySequence'] = 0   \n",
    "        features['maxHotkeySequence'] = maxi * 1.0\n",
    "        if features['firstHk'] == '':\n",
    "            features['firstHk'] = 'No hotkey used'\n",
    "        #\"\"\"\n",
    "        features['s'] = features['s'] / features['apm'] * 100\n",
    "        features['sBase'] = features['sBase'] / features['apm'] * 100\n",
    "        features['sMineral'] = features['sMineral'] / features['apm'] * 100\n",
    "        features['nbHotkeysUsed'] = 0\n",
    "        features['nbHotkeysRealloc'] = 0\n",
    "        for i in range(0,10):\n",
    "            features['hotkey%s1'%(i)] = features['hotkey%s1'%(i)] / features['apm'] * 100\n",
    "            if features['hotkey%s0'%(i)] > 0:\n",
    "                features['nbHotkeysUsed'] = features['nbHotkeysUsed'] + 1\n",
    "            if features['hotkey%s2'%(i)] > 0:\n",
    "                features['nbHotkeysRealloc'] = features['nbHotkeysRealloc'] + 1\n",
    "\n",
    "\n",
    "\n",
    "        #\"\"\"\n",
    "        features['apm'] = features['apm'] / (lastFrame/1800)#30 fps, shitty computers probably\n",
    "        #print(features)\n",
    "        data.append(features)\n",
    "    return data"
   ]
  },
  {
   "cell_type": "code",
   "execution_count": 42,
   "metadata": {
    "ExecuteTime": {
     "end_time": "2017-01-17T22:01:50.822126",
     "start_time": "2017-01-17T22:01:41.179625"
    },
    "collapsed": false,
    "scrolled": true
   },
   "outputs": [
    {
     "name": "stderr",
     "output_type": "stream",
     "text": [
      "100%|███████████████████████████████████████████████████████████████████████████████████| 4099/4099 [00:09<00:00, 425.36it/s]\n"
     ]
    }
   ],
   "source": [
    "all_features = []\n",
    "all_features = generateData(train_list, \"battleneturl\")"
   ]
  },
  {
   "cell_type": "code",
   "execution_count": 43,
   "metadata": {
    "ExecuteTime": {
     "end_time": "2017-01-17T22:01:53.171625",
     "start_time": "2017-01-17T22:01:50.823626"
    },
    "collapsed": false,
    "scrolled": true
   },
   "outputs": [
    {
     "name": "stderr",
     "output_type": "stream",
     "text": [
      "100%|███████████████████████████████████████████████████████████████████████████████████| 1024/1024 [00:02<00:00, 437.23it/s]\n"
     ]
    }
   ],
   "source": [
    "test_features = []\n",
    "test_features = generateData(test_list, \"row ID\")"
   ]
  },
  {
   "cell_type": "code",
   "execution_count": 44,
   "metadata": {
    "ExecuteTime": {
     "end_time": "2017-01-17T22:01:54.109142",
     "start_time": "2017-01-17T22:01:53.173625"
    },
    "collapsed": false
   },
   "outputs": [],
   "source": [
    "with open('features.csv', 'w') as outfile:\n",
    "    fp = csv.DictWriter(outfile, all_features[0].keys())\n",
    "    fp.writeheader()\n",
    "    fp.writerows(all_features)"
   ]
  },
  {
   "cell_type": "code",
   "execution_count": 45,
   "metadata": {
    "ExecuteTime": {
     "end_time": "2017-01-17T22:01:54.363137",
     "start_time": "2017-01-17T22:01:54.111123"
    },
    "collapsed": true
   },
   "outputs": [],
   "source": [
    "with open('test_features.csv', 'w') as outfile:\n",
    "    fp = csv.DictWriter(outfile, test_features[0].keys())\n",
    "    fp.writeheader()\n",
    "    fp.writerows(test_features)"
   ]
  },
  {
   "cell_type": "code",
   "execution_count": 30,
   "metadata": {
    "ExecuteTime": {
     "end_time": "2017-01-16T20:54:03.222613",
     "start_time": "2017-01-16T20:54:03.201624"
    },
    "collapsed": false
   },
   "outputs": [
    {
     "data": {
      "text/plain": [
       "0.000625"
      ]
     },
     "execution_count": 30,
     "metadata": {},
     "output_type": "execute_result"
    }
   ],
   "source": [
    "1/1600"
   ]
  },
  {
   "cell_type": "code",
   "execution_count": 18,
   "metadata": {
    "ExecuteTime": {
     "end_time": "2017-01-17T20:27:03.195577",
     "start_time": "2017-01-17T20:27:03.160575"
    },
    "collapsed": false
   },
   "outputs": [
    {
     "data": {
      "text/plain": [
       "OrderedDict([('battleneturl', '/MMA/'),\n",
       "             ('race', 'Terran'),\n",
       "             ('numRace', 1.0),\n",
       "             ('Terran', 1.0),\n",
       "             ('Protoss', 0.0),\n",
       "             ('Zerg', 0.0),\n",
       "             ('s', 22.61072261072261),\n",
       "             ('sBase', 0.0),\n",
       "             ('sMineral', 0.3108003108003108),\n",
       "             ('firstHk', 'hotkey10'),\n",
       "             ('firstHkNum', 1),\n",
       "             ('openingS', 1.0),\n",
       "             ('openingSBase', 0.0),\n",
       "             ('openingHotkeyBind', 0.0),\n",
       "             ('gameString',\n",
       "              'slctslctslcthk10hk20hk30hk40hk50hk60hk00hk70hk90hk80slcthk22slcthk22slcthk22slctslcthk22slcthk22slcthk22slcthk40hk22hk42hk22hk42hk22hk42hk22hk42slcthk42slcthk42hk22slctslcthk22hk42hk22slcthk22slcthk22hk42hk22slcthk22slcthk22hk42hk22slcthk22slcthk22slcthk22hk42hk22hk42slcthk22hk42slcthk42slctslcthk22hk42hk22slcthk40hk22slcthk42hk22hk42hk22slcthk22slcthk22hk42hk22hk42hk22slcthk22slcthk22hk42hk22hk42hk22slcthk22hk42hk22slcthk22slcthk22hk42hk22slcthk22hk42hk22slcthk22slcthk22hk42hk22slcthk22hk42hk22slcthk22hk42slcthk42slcthk42slcthk22hk42slcthk22hk42slcthk22hk42hk22slcthk22slcthk22slcthk42hk22slcthk10hk22slcthk22hk42slcthk42slcthk22hk42hk22slcthk42hk22hk42hk22hk42hk22slcthk22slcthk22slcthk22hk42hk22hk42hk22hk42hk22slcthk22slcthk22slcthk22hk42hk22slcthk22hk42hk22slcthk22slcthk22hk42hk22hk42hk22hk42hk22hk42hk22slcthk42hk22slcthk22hk42slcthk22hk42hk22hk42hk22slcthk22hk42slcthk22hk42slcthk22hk42slcthk22hk42hk22slcthk22slcthk22slcthk22hk42hk22slcthk42slcthk22hk42hk22slcthk22hk42slcthk22slcthk22hk42hk22hk42hk22slcthk22slcthk22slcthk22hk42hk22slcthk22hk42slcthk22hk42slcthk22hk42hk22slcthk22slcthk22slcthk22hk42hk22slcthk22hk42slcthk42slcthk22hk42hk22hk42slcthk22slcthk22hk42slcthk42slcthk22hk42hk22hk42hk22hk12slctslcthk12hk22slcthk22slcthk22slcthk22hk42hk22hk42hk22hk42hk22hk42slcthk22hk42hk22slcthk12hk22slcthk40hk22hk42hk22slcthk22slcthk22slcthk22slcthk22hk42hk22hk42hk22slctslcthk22slcthk22hk42hk22slctslcthk22hk42hk22hk42hk22hk42hk22hk42slctslctslcthk22hk42hk22hk42hk22hk42slcthk22hk42hk22slcthk22slcthk22hk42hk22slcthk22hk42hk22slcthk22slcthk22slcthk22hk42hk22slcthk22hk42hk22slcthk22slcthk22slcthk22hk42hk22hk42hk22hk42hk22hk42hk22hk42hk22hk42hk22hk42hk22hk42hk22hk42slcthk22hk42slcthk22hk42slcthk22hk42hk22slcthk22slcthk22slcthk22hk42hk22slcthk22slcthk22hk42hk22slcthk22hk42hk22hk42hk22hk42slcthk22hk42slcthk22hk42hk22hk42slcthk22hk42hk22slcthk22hk42slcthk42slcthk22hk42hk22hk42hk22slctslcthk22slcthk22hk42hk22slcthk22hk42slcthk42slcthk22hk42hk22slcthk22hk42hk22slcthk22slcthk22hk42hk22slcthk22hk42hk22hk42slcthk22hk12hk22hk42hk22slcthk22slcthk22slcthk22hk42hk22slcthk22hk42hk22hk42slcthk22hk42hk22hk42hk22hk42hk22hk42hk22hk42slcthk22hk42slcthk12hk42hk22hk42hk22slcthk22slcthk22slcthk22hk42hk22slcthk22slcthk22slcthk22hk42hk22hk42hk22slcthk22slcthk22slcthk22hk42hk22hk42hk22slcthk22slcthk22slcthk22hk42hk22slcthk22hk42hk22slcthk42hk12hk42slcthk42hk22hk42hk22hk42hk12hk42hk22slcthk22slcthk22slcthk22slcthk22slcthk22hk42hk22slcthk22hk42hk22hk42hk22slcthk22slcthk22slcthk22hk42hk22slcthk22slcthk22slcthk22hk42hk22slcthk22slcthk22slcthk22hk42hk22hk42hk22slcthk22slcthk22hk42hk22hk42hk22slctslcthk22slcthk22slcthk22hk42hk22slcthk22slcthk22slcthk22hk42hk22hk42hk22hk42hk22hk42hk22slcthk22slcthk22hk42hk22slcthk22slcthk22slcthk22hk42hk22slcthk22slcthk22slcthk22hk42hk22hk42hk22slcthk50hk22hk52hk22hk52hk22hk52hk42hk22hk42hk22slcthk22slcthk22hk42hk22slcthk22hk42hk22hk42hk22slctslctslctslctslctslctslctslctslcthk22hk42hk22hk52hk22hk52hk22hk52hk42hk22hk42hk22slcthk22slcthk22slcthk22hk42hk22slcthk22hk42hk22slcthk42hk22hk42hk22slcthk22slcthk52slcthk50hk22slcthk00hk70hk22hk52hk22hk42slcthk10hk22slcthk60hk22hk62hk22hk12hk22hk42hk22hk42hk22hk42hk12hk22hk52hk22slcthk22hk62hk22hk12hk22hk12hk22hk12hk42hk22hk42hk22slcthk22slcthk22hk42hk22slcthk60hk22hk42hk22slcthk12hk42hk22hk42hk12hk62hk12hk42hk22hk42hk12hk22hk42hk62hk12hk42hk12hk42hk12hk42hk12hk42hk12hk42hk12hk42hk12hk22hk12hk42hk12hk42hk12hk42hk12hk42hk12hk42hk12hk42hk12hk42slcthk12hk42hk12hk42hk12hk42hk12hk42hk12hk22hk12hk42hk22hk42hk22hk42hk22hk42hk12hk42hk12hk52hk12hk52hk12hk52hk12hk42hk12hk42hk12hk42hk12hk42hk12hk42hk12hk42hk12hk22hk52hk12hk52hk12hk42hk22hk42hk22hk42hk22hk42hk22hk42hk22hk42hk22hk42hk12hk52hk22hk12hk22hk52hk22hk52hk22slcthk22hk42slcthk12hk52hk12hk52hk12hk52hk12hk52hk42hk22hk42hk22hk42slcthk30hk12hk52hk12hk52hk12hk52hk12hk22hk12hk52hk12hk52hk12hk42hk22hk42hk32hk22hk42hk22hk42hk22slcthk22hk12hk22hk42hk52hk12hk52hk12hk52hk12hk52hk12hk52hk12hk52hk12hk52hk12hk42hk22hk42hk22hk42slctslcthk52slcthk52hk12hk52hk12hk42hk22hk42hk22hk42slctslctslctslcthk52hk42hk22hk42hk52slctslcthk22hk52slcthk12hk22hk12hk22hk52slcthk22hk52hk22hk52hk12hk42hk52hk22hk52minehk22hk52slcthk22hk52hk22hk52hk22hk52slcthk30hk42hk22hk42hk22hk42slcthk60hk22hk52slcthk12hk22hk52slcthk22hk52hk42hk22hk42hk22hk42hk22hk42hk22hk42slcthk40hk22hk42hk22hk42slctslctslctslctslcthk42hk22hk52hk22hk52hk22hk52hk22hk52hk22hk52hk42hk22hk42hk22hk42hk22hk42slcthk12slcthk12slcthk10slcthk22hk52slcthk42hk22hk42hk22hk42hk22hk42slcthk22hk42hk22hk42hk22hk42hk22hk42hk22hk52hk22hk52hk22hk52slcthk22hk52hk22hk42hk22hk42slctslctslcthk22hk52slcthk52hk22hk52hk22hk52hk22hk52hk22hk52hk22hk52hk22hk52hk22hk52hk22hk52slcthk22hk52hk12hk42hk22hk42hk22hk42slcthk22hk42hk22hk42hk62slcthk62hk12hk62slcthk12hk12hk62hk12hk62hk12hk62hk12hk62slcthk62hk12hk22hk52hk12hk22hk52hk12hk22hk52hk22hk52hk22hk52hk12hk52hk12hk42hk22hk42hk22hk42hk22hk42slctslcthk12hk12hk42slcthk12hk42slcthk12hk42hk12hk42slcthk12hk42slcthk12hk42hk12hk22hk12hk52hk22hk52minehk22hk52slcthk12hk12hk52hk12hk52hk12hk42hk22hk42hk22hk42hk12hk12hk42slcthk12hk22hk52minehk22minehk52hk22hk52hk22hk52slcthk42slctslcthk52slcthk42slcthk12slcthk10hk52hk42slcthk62hk12hk22'),\n",
       "             ('hotkey00', 2),\n",
       "             ('hotkey01', 0.0),\n",
       "             ('hotkey02', 0),\n",
       "             ('hotkey10', 5),\n",
       "             ('hotkey11', 0.0),\n",
       "             ('hotkey12', 108),\n",
       "             ('hotkey20', 1),\n",
       "             ('hotkey21', 0.0),\n",
       "             ('hotkey22', 457),\n",
       "             ('hotkey30', 3),\n",
       "             ('hotkey31', 0.0),\n",
       "             ('hotkey32', 1),\n",
       "             ('hotkey40', 5),\n",
       "             ('hotkey41', 0.0),\n",
       "             ('hotkey42', 296),\n",
       "             ('hotkey50', 3),\n",
       "             ('hotkey51', 0.0),\n",
       "             ('hotkey52', 89),\n",
       "             ('hotkey60', 4),\n",
       "             ('hotkey61', 0.0),\n",
       "             ('hotkey62', 13),\n",
       "             ('hotkey70', 2),\n",
       "             ('hotkey71', 0.0),\n",
       "             ('hotkey72', 0),\n",
       "             ('hotkey80', 1),\n",
       "             ('hotkey81', 0.0),\n",
       "             ('hotkey82', 0),\n",
       "             ('hotkey90', 1),\n",
       "             ('hotkey91', 0.0),\n",
       "             ('hotkey92', 0),\n",
       "             ('apm', 344.8861098704779),\n",
       "             ('openingMove', 's'),\n",
       "             ('selectPercent', 22.61072261072261),\n",
       "             ('sBasePercent', 0.0),\n",
       "             ('nbHotkeysUsed', 10),\n",
       "             ('nbHotkeysRealloc', 6)])"
      ]
     },
     "execution_count": 18,
     "metadata": {},
     "output_type": "execute_result"
    }
   ],
   "source": [
    "all_features[1]"
   ]
  },
  {
   "cell_type": "code",
   "execution_count": null,
   "metadata": {
    "collapsed": true
   },
   "outputs": [],
   "source": []
  }
 ],
 "metadata": {
  "anaconda-cloud": {},
  "kernelspec": {
   "display_name": "Python [Root]",
   "language": "python",
   "name": "Python [Root]"
  },
  "language_info": {
   "codemirror_mode": {
    "name": "ipython",
    "version": 3
   },
   "file_extension": ".py",
   "mimetype": "text/x-python",
   "name": "python",
   "nbconvert_exporter": "python",
   "pygments_lexer": "ipython3",
   "version": "3.5.2"
  },
  "nav_menu": {},
  "toc": {
   "navigate_menu": true,
   "number_sections": true,
   "sideBar": true,
   "threshold": 6,
   "toc_cell": false,
   "toc_section_display": "block",
   "toc_window_display": false
  }
 },
 "nbformat": 4,
 "nbformat_minor": 1
}
